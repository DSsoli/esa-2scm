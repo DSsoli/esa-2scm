{
 "cells": [
  {
   "cell_type": "code",
   "execution_count": 1,
   "metadata": {},
   "outputs": [],
   "source": [
    "import warnings\n",
    "warnings.simplefilter(\"always\")\n",
    "\n",
    "import numpy as np\n",
    "from esa_2scm.syniv import SynIV\n",
    "from esa_2scm import ESA2SCM"
   ]
  },
  {
   "cell_type": "code",
   "execution_count": 2,
   "metadata": {},
   "outputs": [],
   "source": [
    "x_0var = [1,1,1]\n",
    "x_M2 = [1,1,2,3]\n",
    "x_M3 = [1,1,2,3,4,5]"
   ]
  },
  {
   "cell_type": "code",
   "execution_count": 3,
   "metadata": {},
   "outputs": [
    {
     "name": "stdout",
     "output_type": "stream",
     "text": [
      "[1 1 1]\n",
      "\n",
      "[1 1 1]\n",
      "\n",
      "[1 1 1]\n"
     ]
    },
    {
     "name": "stderr",
     "output_type": "stream",
     "text": [
      "/home/soli/Desktop/causal_model_packages/esa/esa_2scm/esa_2scm/syniv/esa.py:42: UserWarning: \n",
      "                            Data is excessively concentrated on a single segment to perform meaningful ESA. Using Dense Rank method instead.\n",
      "                            (Single value accounts for 100.00% of the total dataset while single segment threshold for M=5 is fixed at 20.00%).\n",
      "                            (This may indicate bias in the dataset, and may happen more commonly if the provided data is discrete and imbalanced). \n",
      "                            \n",
      "  warnings.warn(f\"\"\"\n",
      "/home/soli/Desktop/causal_model_packages/esa/esa_2scm/esa_2scm/syniv/esa.py:14: UserWarning: 0 variance for given sample\n",
      "  warnings.warn(\"0 variance for given sample\", UserWarning)\n",
      "/home/soli/Desktop/causal_model_packages/esa/esa_2scm/esa_2scm/syniv/esa.py:14: UserWarning: 0 variance for given sample\n",
      "  warnings.warn(\"0 variance for given sample\", UserWarning)\n",
      "/home/soli/Desktop/causal_model_packages/esa/esa_2scm/esa_2scm/syniv/esa.py:14: UserWarning: 0 variance for given sample\n",
      "  warnings.warn(\"0 variance for given sample\", UserWarning)\n"
     ]
    }
   ],
   "source": [
    "print(SynIV.esa(x_0var, M=5))\n",
    "print()\n",
    "print(SynIV.dense_rank(x_0var))\n",
    "print()\n",
    "print(SynIV.m_split(x_0var, strategy=\"auto\"))"
   ]
  },
  {
   "cell_type": "code",
   "execution_count": 4,
   "metadata": {},
   "outputs": [
    {
     "name": "stdout",
     "output_type": "stream",
     "text": [
      "[1 1 2 2]\n",
      "\n",
      "[1 1 2 3]\n",
      "\n",
      "[-1 -1  1  1]\n"
     ]
    },
    {
     "name": "stderr",
     "output_type": "stream",
     "text": [
      "/home/soli/Desktop/causal_model_packages/esa/esa_2scm/esa_2scm/syniv/esa.py:50: UserWarning: \n",
      "                            Data is excessively concentrated on a single segment to perform meaningful ESA. Using M=2 instead of M=5.\n",
      "                            (Single value accounts for 50.00% of the total dataset while single segment threshold for M=5 is fixed at 20.00%).\n",
      "                            (This may indicate bias in the dataset, and may happen more commonly if the provided data is discrete and imbalanced). \n",
      "                            \n",
      "  warnings.warn(f\"\"\"\n"
     ]
    }
   ],
   "source": [
    "print(SynIV.esa(x_M2, M=5))\n",
    "print()\n",
    "print(SynIV.dense_rank(x_M2))\n",
    "print()\n",
    "print(SynIV.m_split(x_M2, strategy=\"auto\"))"
   ]
  },
  {
   "cell_type": "code",
   "execution_count": 5,
   "metadata": {},
   "outputs": [
    {
     "name": "stdout",
     "output_type": "stream",
     "text": [
      "[1 1 2 2 3 3]\n",
      "\n",
      "[1 1 2 3 4 5]\n",
      "\n",
      "[-1 -1 -1  1  1  1]\n"
     ]
    },
    {
     "name": "stderr",
     "output_type": "stream",
     "text": [
      "/home/soli/Desktop/causal_model_packages/esa/esa_2scm/esa_2scm/syniv/esa.py:50: UserWarning: \n",
      "                            Data is excessively concentrated on a single segment to perform meaningful ESA. Using M=3 instead of M=5.\n",
      "                            (Single value accounts for 33.33% of the total dataset while single segment threshold for M=5 is fixed at 20.00%).\n",
      "                            (This may indicate bias in the dataset, and may happen more commonly if the provided data is discrete and imbalanced). \n",
      "                            \n",
      "  warnings.warn(f\"\"\"\n"
     ]
    }
   ],
   "source": [
    "print(SynIV.esa(x_M3, M=5))\n",
    "print()\n",
    "print(SynIV.dense_rank(x_M3))\n",
    "print()\n",
    "print(SynIV.m_split(x_M3, strategy=\"auto\"))"
   ]
  },
  {
   "cell_type": "code",
   "execution_count": 6,
   "metadata": {},
   "outputs": [
    {
     "name": "stdout",
     "output_type": "stream",
     "text": [
      "Detected correctly: 97/100\n",
      "Detected wrongly: 3/100\n",
      "Accuracy: 97.00%\n",
      "mean estimated causal impact coef: 1.800000000000001\n",
      "\n",
      "\n",
      "1.7947457098599489\n",
      "x2->x1\n",
      "0.1998\n",
      "[1.34408743 0.86129911 0.88236526 ... 0.20136316 0.67327306 2.26203288]\n",
      "[0.67227856 0.4880784  0.82549517 ... 0.20172246 0.01562267 0.98991499]\n",
      "[0.59515583 0.50543579 0.50543579 ... 0.41571574 0.50543579 0.68487588]\n",
      "[4 3 3 ... 2 3 5]\n",
      "[4 3 5 ... 1 1 5]\n",
      "0.9792399061936715\n",
      "0.9435389805488189\n"
     ]
    },
    {
     "data": {
      "text/html": [
       "<div>\n",
       "<style scoped>\n",
       "    .dataframe tbody tr th:only-of-type {\n",
       "        vertical-align: middle;\n",
       "    }\n",
       "\n",
       "    .dataframe tbody tr th {\n",
       "        vertical-align: top;\n",
       "    }\n",
       "\n",
       "    .dataframe thead th {\n",
       "        text-align: right;\n",
       "    }\n",
       "</style>\n",
       "<table border=\"1\" class=\"dataframe\">\n",
       "  <thead>\n",
       "    <tr style=\"text-align: right;\">\n",
       "      <th></th>\n",
       "      <th>x2-&gt;x1</th>\n",
       "      <th>x1-&gt;x2</th>\n",
       "    </tr>\n",
       "  </thead>\n",
       "  <tbody>\n",
       "    <tr>\n",
       "      <th>Causal Direction</th>\n",
       "      <td>True</td>\n",
       "      <td>False</td>\n",
       "    </tr>\n",
       "    <tr>\n",
       "      <th>Goodness of Fit</th>\n",
       "      <td>0.1998</td>\n",
       "      <td>0.19678</td>\n",
       "    </tr>\n",
       "    <tr>\n",
       "      <th>Causal Coefficient</th>\n",
       "      <td>1.794746</td>\n",
       "      <td>0.119574</td>\n",
       "    </tr>\n",
       "    <tr>\n",
       "      <th>Corr (2SLS_IV-Explanatory)</th>\n",
       "      <td>0.97924</td>\n",
       "      <td>0.943539</td>\n",
       "    </tr>\n",
       "  </tbody>\n",
       "</table>\n",
       "</div>"
      ],
      "text/plain": [
       "                              x2->x1    x1->x2\n",
       "Causal Direction                True     False\n",
       "Goodness of Fit               0.1998   0.19678\n",
       "Causal Coefficient          1.794746  0.119574\n",
       "Corr (2SLS_IV-Explanatory)   0.97924  0.943539"
      ]
     },
     "execution_count": 6,
     "metadata": {},
     "output_type": "execute_result"
    }
   ],
   "source": [
    "correct_count = 0\n",
    "wrong_count = 0\n",
    "total_runs = 100\n",
    "b_list = []\n",
    "for _ in range(total_runs):\n",
    "    np.random.seed(_)\n",
    "    N = 10000\n",
    "    shape, scale = 2., 2.\n",
    "    x2 = np.random.random(size=N)\n",
    "    e1 = np.random.normal(size=N)\n",
    "    b12 = 1.8\n",
    "    x1 = b12 * x2 + e1\n",
    "    b_list.append(b12)\n",
    "    model = ESA2SCM(x1, x2)\n",
    "    model.fit('esa', M=5)\n",
    "    if model.causal_direction == \"x2->x1\":\n",
    "        correct_count += 1\n",
    "    else: wrong_count += 1\n",
    "\n",
    "print(f\"Detected correctly: {correct_count}/{total_runs}\")\n",
    "print(f\"Detected wrongly: {wrong_count}/{total_runs}\")\n",
    "print(f\"Accuracy: {correct_count / total_runs * 100:.2f}%\")\n",
    "print(f\"mean estimated causal impact coef: {np.mean(b_list)}\")\n",
    "print()\n",
    "print()\n",
    "print(model.causal_coef)\n",
    "print(model.causal_direction)\n",
    "print(model.score)\n",
    "print(model.x1)\n",
    "print(model.x2)\n",
    "print(model.x_hat)\n",
    "print(model.z1)\n",
    "print(model.z2)\n",
    "print(model.corr_x2_to_slsiv)\n",
    "print(model.corr_x1_to_slsiv)\n",
    "\n",
    "model.summary()"
   ]
  },
  {
   "cell_type": "code",
   "execution_count": 7,
   "metadata": {},
   "outputs": [],
   "source": [
    "N = 10000\n",
    "shape, scale = 2., 2.\n",
    "x2 = np.random.gamma(shape, scale, N)\n",
    "e1 = np.random.normal(size=N)\n",
    "b12 = 1.8\n",
    "x1 = b12 * x2 + e1"
   ]
  },
  {
   "cell_type": "code",
   "execution_count": 8,
   "metadata": {},
   "outputs": [
    {
     "name": "stdout",
     "output_type": "stream",
     "text": [
      "x2->x1\n",
      "1.7918289389215107\n"
     ]
    },
    {
     "data": {
      "text/html": [
       "<div>\n",
       "<style scoped>\n",
       "    .dataframe tbody tr th:only-of-type {\n",
       "        vertical-align: middle;\n",
       "    }\n",
       "\n",
       "    .dataframe tbody tr th {\n",
       "        vertical-align: top;\n",
       "    }\n",
       "\n",
       "    .dataframe thead th {\n",
       "        text-align: right;\n",
       "    }\n",
       "</style>\n",
       "<table border=\"1\" class=\"dataframe\">\n",
       "  <thead>\n",
       "    <tr style=\"text-align: right;\">\n",
       "      <th></th>\n",
       "      <th>x2-&gt;x1</th>\n",
       "      <th>x1-&gt;x2</th>\n",
       "    </tr>\n",
       "  </thead>\n",
       "  <tbody>\n",
       "    <tr>\n",
       "      <th>Causal Direction</th>\n",
       "      <td>True</td>\n",
       "      <td>False</td>\n",
       "    </tr>\n",
       "    <tr>\n",
       "      <th>Goodness of Fit</th>\n",
       "      <td>0.52938</td>\n",
       "      <td>0.52621</td>\n",
       "    </tr>\n",
       "    <tr>\n",
       "      <th>Causal Coefficient</th>\n",
       "      <td>1.791829</td>\n",
       "      <td>0.53194</td>\n",
       "    </tr>\n",
       "    <tr>\n",
       "      <th>Corr (2SLS_IV-Explanatory)</th>\n",
       "      <td>0.742845</td>\n",
       "      <td>0.745426</td>\n",
       "    </tr>\n",
       "  </tbody>\n",
       "</table>\n",
       "</div>"
      ],
      "text/plain": [
       "                              x2->x1    x1->x2\n",
       "Causal Direction                True     False\n",
       "Goodness of Fit              0.52938   0.52621\n",
       "Causal Coefficient          1.791829   0.53194\n",
       "Corr (2SLS_IV-Explanatory)  0.742845  0.745426"
      ]
     },
     "execution_count": 8,
     "metadata": {},
     "output_type": "execute_result"
    }
   ],
   "source": [
    "model = ESA2SCM(x1, x2)\n",
    "model.fit()\n",
    "print(model.causal_direction)\n",
    "print(model.causal_coef)\n",
    "model.summary()"
   ]
  },
  {
   "cell_type": "code",
   "execution_count": 9,
   "metadata": {},
   "outputs": [
    {
     "name": "stdout",
     "output_type": "stream",
     "text": [
      "x1->x2 (prior knowledge)\n",
      "0.5361920413706509\n"
     ]
    },
    {
     "data": {
      "text/html": [
       "<div>\n",
       "<style scoped>\n",
       "    .dataframe tbody tr th:only-of-type {\n",
       "        vertical-align: middle;\n",
       "    }\n",
       "\n",
       "    .dataframe tbody tr th {\n",
       "        vertical-align: top;\n",
       "    }\n",
       "\n",
       "    .dataframe thead th {\n",
       "        text-align: right;\n",
       "    }\n",
       "</style>\n",
       "<table border=\"1\" class=\"dataframe\">\n",
       "  <thead>\n",
       "    <tr style=\"text-align: right;\">\n",
       "      <th></th>\n",
       "      <th>x1-&gt;x2 (Predetermined)</th>\n",
       "    </tr>\n",
       "  </thead>\n",
       "  <tbody>\n",
       "    <tr>\n",
       "      <th>Causal Direction</th>\n",
       "      <td>x1-&gt;x2</td>\n",
       "    </tr>\n",
       "    <tr>\n",
       "      <th>Goodness of Fit</th>\n",
       "      <td>0.962203</td>\n",
       "    </tr>\n",
       "    <tr>\n",
       "      <th>Causal Coefficient</th>\n",
       "      <td>0.536192</td>\n",
       "    </tr>\n",
       "  </tbody>\n",
       "</table>\n",
       "</div>"
      ],
      "text/plain": [
       "                   x1->x2 (Predetermined)\n",
       "Causal Direction                   x1->x2\n",
       "Goodness of Fit                  0.962203\n",
       "Causal Coefficient               0.536192"
      ]
     },
     "execution_count": 9,
     "metadata": {},
     "output_type": "execute_result"
    }
   ],
   "source": [
    "model = ESA2SCM(x1, x2, prior_knowledge=\"x1->x2\")\n",
    "model.fit()\n",
    "print(model.causal_direction)\n",
    "print(model.causal_coef)\n",
    "model.summary()"
   ]
  },
  {
   "cell_type": "code",
   "execution_count": 10,
   "metadata": {},
   "outputs": [
    {
     "name": "stdout",
     "output_type": "stream",
     "text": [
      "[ 3.65951274 14.05187358  4.47800236 ...  4.17280154 10.78761116\n",
      "  5.64935329]\n"
     ]
    }
   ],
   "source": [
    "print(model.x1)"
   ]
  },
  {
   "cell_type": "code",
   "execution_count": 11,
   "metadata": {},
   "outputs": [
    {
     "ename": "AttributeError",
     "evalue": "Synthetic IV (z1) is not generated as Prior Knowledge has been set",
     "output_type": "error",
     "traceback": [
      "\u001b[0;31m---------------------------------------------------------------------------\u001b[0m",
      "\u001b[0;31mAttributeError\u001b[0m                            Traceback (most recent call last)",
      "Cell \u001b[0;32mIn[11], line 1\u001b[0m\n\u001b[0;32m----> 1\u001b[0m \u001b[38;5;28mprint\u001b[39m(\u001b[43mmodel\u001b[49m\u001b[38;5;241;43m.\u001b[39;49m\u001b[43mz1\u001b[49m)\n",
      "File \u001b[0;32m~/Desktop/causal_model_packages/esa/esa_2scm/esa_2scm/models.py:121\u001b[0m, in \u001b[0;36mESA2SCM.z1\u001b[0;34m(self)\u001b[0m\n\u001b[1;32m    119\u001b[0m \u001b[38;5;28;01mif\u001b[39;00m \u001b[38;5;28mhasattr\u001b[39m(\u001b[38;5;28mself\u001b[39m, \u001b[38;5;124m\"\u001b[39m\u001b[38;5;124m_z1\u001b[39m\u001b[38;5;124m\"\u001b[39m):\n\u001b[1;32m    120\u001b[0m     \u001b[38;5;28;01mreturn\u001b[39;00m \u001b[38;5;28mself\u001b[39m\u001b[38;5;241m.\u001b[39m_z1\n\u001b[0;32m--> 121\u001b[0m \u001b[38;5;28;01mraise\u001b[39;00m \u001b[38;5;167;01mAttributeError\u001b[39;00m(\u001b[38;5;124m\"\u001b[39m\u001b[38;5;124mSynthetic IV (z1) is not generated as Prior Knowledge has been set\u001b[39m\u001b[38;5;124m\"\u001b[39m)\n",
      "\u001b[0;31mAttributeError\u001b[0m: Synthetic IV (z1) is not generated as Prior Knowledge has been set"
     ]
    }
   ],
   "source": [
    "print(model.z1)"
   ]
  },
  {
   "cell_type": "code",
   "execution_count": 12,
   "metadata": {},
   "outputs": [
    {
     "ename": "AttributeError",
     "evalue": "Synthetic IV to calculate correlation coefficient is not generated as Prior knowledge has been set",
     "output_type": "error",
     "traceback": [
      "\u001b[0;31m---------------------------------------------------------------------------\u001b[0m",
      "\u001b[0;31mAttributeError\u001b[0m                            Traceback (most recent call last)",
      "Cell \u001b[0;32mIn[12], line 1\u001b[0m\n\u001b[0;32m----> 1\u001b[0m \u001b[38;5;28mprint\u001b[39m(\u001b[43mmodel\u001b[49m\u001b[38;5;241;43m.\u001b[39;49m\u001b[43mcorr_x1_to_slsiv\u001b[49m)\n",
      "File \u001b[0;32m~/Desktop/causal_model_packages/esa/esa_2scm/esa_2scm/models.py:155\u001b[0m, in \u001b[0;36mESA2SCM.corr_x1_to_slsiv\u001b[0;34m(self)\u001b[0m\n\u001b[1;32m    153\u001b[0m \u001b[38;5;28;01mif\u001b[39;00m \u001b[38;5;28mhasattr\u001b[39m(\u001b[38;5;28mself\u001b[39m, \u001b[38;5;124m\"\u001b[39m\u001b[38;5;124m_x1_slsiv_corr_\u001b[39m\u001b[38;5;124m\"\u001b[39m):\n\u001b[1;32m    154\u001b[0m     \u001b[38;5;28;01mreturn\u001b[39;00m \u001b[38;5;28mself\u001b[39m\u001b[38;5;241m.\u001b[39m_x1_slsiv_corr_\n\u001b[0;32m--> 155\u001b[0m \u001b[38;5;28;01mraise\u001b[39;00m \u001b[38;5;167;01mAttributeError\u001b[39;00m(\u001b[38;5;124m\"\u001b[39m\u001b[38;5;124mSynthetic IV to calculate correlation coefficient is not generated as Prior knowledge has been set\u001b[39m\u001b[38;5;124m\"\u001b[39m)\n",
      "\u001b[0;31mAttributeError\u001b[0m: Synthetic IV to calculate correlation coefficient is not generated as Prior knowledge has been set"
     ]
    }
   ],
   "source": [
    "print(model.corr_x1_to_slsiv)"
   ]
  }
 ],
 "metadata": {
  "kernelspec": {
   "display_name": "Python 3",
   "language": "python",
   "name": "python3"
  },
  "language_info": {
   "codemirror_mode": {
    "name": "ipython",
    "version": 3
   },
   "file_extension": ".py",
   "mimetype": "text/x-python",
   "name": "python",
   "nbconvert_exporter": "python",
   "pygments_lexer": "ipython3",
   "version": "3.10.12"
  }
 },
 "nbformat": 4,
 "nbformat_minor": 2
}
